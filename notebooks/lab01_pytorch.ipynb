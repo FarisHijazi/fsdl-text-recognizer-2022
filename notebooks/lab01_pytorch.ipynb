{
  "nbformat": 4,
  "nbformat_minor": 0,
  "metadata": {
    "colab": {
      "name": "lab01_pytorch.ipynb",
      "private_outputs": true,
      "provenance": [],
      "collapsed_sections": [],
      "toc_visible": true
    },
    "kernelspec": {
      "name": "python3",
      "display_name": "Python 3"
    },
    "language_info": {
      "name": "python"
    },
    "accelerator": "GPU",
    "gpuClass": "standard"
  },
  "cells": [
    {
      "cell_type": "markdown",
      "source": [
        "<img src=\"https://fsdl.me/logo-720-dark-horizontal\">"
      ],
      "metadata": {
        "id": "FlH0lCOttCs5"
      }
    },
    {
      "cell_type": "markdown",
      "source": [
        "# Lab 01: Deep Neural Networks in PyTorch"
      ],
      "metadata": {
        "id": "ZUPRHaeetRnT"
      }
    },
    {
      "cell_type": "markdown",
      "source": [
        "### What You Will Learn\n",
        "\n",
        "- How to write a basic neural network from scratch\n",
        "- How `torch` and `torch.nn` make writing performant neural network training and inference code easier"
      ],
      "metadata": {
        "id": "bry3Hr-PcgDs"
      }
    },
    {
      "cell_type": "markdown",
      "source": [
        "# Setup"
      ],
      "metadata": {
        "id": "vs0LXXlCU6Ix"
      }
    },
    {
      "cell_type": "markdown",
      "source": [
        "If you're running this notebook on Google Colab,\n",
        "the cell below will run full environment setup.\n",
        "\n",
        "It should take about three minutes to run."
      ],
      "metadata": {
        "id": "ZkQiK7lkgeXm"
      }
    },
    {
      "cell_type": "code",
      "source": [
        "!wget --quiet http://fsdl.me/gist-bootstrap -O bootstrap.py\n",
        "\n",
        "from pathlib import Path\n",
        "import sys\n",
        "\n",
        "in_colab = \"google.colab\" in sys.modules\n",
        "repo = \"fsdl-text-recognizer-2022-labs\"\n",
        "\n",
        "if Path.cwd().name != repo:\n",
        "    if in_colab:\n",
        "        !python bootstrap.py --repo {repo} --in_colab\n",
        "\n",
        "        %cd /content/{repo}\n",
        "        !pip install --quiet -r requirements/prod.in > /dev/null\n",
        "        !sed 1d requirements/dev.in | grep -v \"#\" | xargs pip install --quiet > /dev/null\n",
        "\n",
        "        pythonpath = !echo $PYTHONPATH\n",
        "        if \".\" not in pythonpath[-1]:\n",
        "            pythonpath = [\".\"] + pythonpath\n",
        "            %env PYTHONPATH={\":\".join(pythonpath)}\n",
        "            !echo $PYTHONPATH\n",
        "    else:\n",
        "        !python bootstrap.py --repo {repo}\n",
        "        %cd ../\n",
        "    \n",
        "%ls\n",
        "\n",
        "%load_ext autoreload\n",
        "%autoreload 2"
      ],
      "metadata": {
        "id": "sVx7C7H0PIZC"
      },
      "execution_count": null,
      "outputs": []
    }
  ]
}